{
  "nbformat": 4,
  "nbformat_minor": 0,
  "metadata": {
    "colab": {
      "private_outputs": true,
      "provenance": []
    },
    "kernelspec": {
      "name": "python3",
      "display_name": "Python 3"
    },
    "language_info": {
      "name": "python"
    }
  },
  "cells": [
    {
      "cell_type": "code",
      "execution_count": null,
      "metadata": {
        "id": "Y4ouH1lLftNy"
      },
      "outputs": [],
      "source": [
        "import pandas as pd\n",
        "import numpy as np\n",
        "from scipy import stats"
      ]
    },
    {
      "cell_type": "code",
      "source": [
        "sample=[1.13, 1.55, 1.43, 0.92, 1.25, 1.36, 1.32, 0.85, 1.07, 1.48, 1.20, 1.33, 1.18, 1.22, 1.29]"
      ],
      "metadata": {
        "id": "tdPwbTBefz9g"
      },
      "execution_count": null,
      "outputs": []
    },
    {
      "cell_type": "code",
      "source": [
        "#creating dataframe"
      ],
      "metadata": {
        "id": "JdiQHFMppIHR"
      },
      "execution_count": null,
      "outputs": []
    },
    {
      "cell_type": "code",
      "source": [
        "df=pd.DataFrame(sample)"
      ],
      "metadata": {
        "id": "iXAwSOhbf51e"
      },
      "execution_count": null,
      "outputs": []
    },
    {
      "cell_type": "code",
      "source": [
        "df"
      ],
      "metadata": {
        "id": "ZPlGbkpngCSj"
      },
      "execution_count": null,
      "outputs": []
    },
    {
      "cell_type": "code",
      "source": [
        "df.shape"
      ],
      "metadata": {
        "id": "vLU3YZvWoJ-C"
      },
      "execution_count": null,
      "outputs": []
    },
    {
      "cell_type": "code",
      "source": [
        "#standard deviation of dataframe"
      ],
      "metadata": {
        "id": "2HY_WkOtpLdu"
      },
      "execution_count": null,
      "outputs": []
    },
    {
      "cell_type": "code",
      "source": [
        "std=df.std()"
      ],
      "metadata": {
        "id": "GwanyV90gDfL"
      },
      "execution_count": null,
      "outputs": []
    },
    {
      "cell_type": "code",
      "source": [
        "std"
      ],
      "metadata": {
        "id": "96eVdr47gHpV"
      },
      "execution_count": null,
      "outputs": []
    },
    {
      "cell_type": "code",
      "source": [
        "#mean of dataframe"
      ],
      "metadata": {
        "id": "PhwXhZzQpRds"
      },
      "execution_count": null,
      "outputs": []
    },
    {
      "cell_type": "code",
      "source": [
        "mean=df.mean()"
      ],
      "metadata": {
        "id": "70ww_l6fhTfX"
      },
      "execution_count": null,
      "outputs": []
    },
    {
      "cell_type": "code",
      "source": [
        "mean"
      ],
      "metadata": {
        "id": "405ZuBiShV9o"
      },
      "execution_count": null,
      "outputs": []
    },
    {
      "cell_type": "code",
      "source": [
        "#confidence interval(99%) by using normal distribution"
      ],
      "metadata": {
        "id": "tXM7RRPDpUPB"
      },
      "execution_count": null,
      "outputs": []
    },
    {
      "cell_type": "code",
      "source": [
        "df_confidence_normal=stats.norm.interval(0.99,loc=mean,scale=std)"
      ],
      "metadata": {
        "id": "dXOgOebzhWsc"
      },
      "execution_count": null,
      "outputs": []
    },
    {
      "cell_type": "code",
      "source": [
        "print(np.round(df_confidence_normal,4))"
      ],
      "metadata": {
        "id": "b8EkvF2wh6lJ"
      },
      "execution_count": null,
      "outputs": []
    },
    {
      "cell_type": "code",
      "source": [
        "# confidence interval(%99) by using t-distribution"
      ],
      "metadata": {
        "id": "hX0cPjwBpuTL"
      },
      "execution_count": null,
      "outputs": []
    },
    {
      "cell_type": "code",
      "source": [
        "df_confidence_t=stats.t.interval(0.99,14,loc=mean,scale=std)"
      ],
      "metadata": {
        "id": "Pq0QgPQmiAjt"
      },
      "execution_count": null,
      "outputs": []
    },
    {
      "cell_type": "code",
      "source": [
        "print(np.round(df_confidence_t,4))"
      ],
      "metadata": {
        "id": "4b1ePHqRoryg"
      },
      "execution_count": null,
      "outputs": []
    },
    {
      "cell_type": "code",
      "source": [
        "# confidence interval when population Standard deviation is known."
      ],
      "metadata": {
        "id": "PaQRCswUsgYv"
      },
      "execution_count": null,
      "outputs": []
    },
    {
      "cell_type": "code",
      "source": [
        "df_confidence_normal_pol=stats.norm.interval(0.99,loc=mean,scale=0.2)"
      ],
      "metadata": {
        "id": "S7ylu7pmo5uL"
      },
      "execution_count": null,
      "outputs": []
    },
    {
      "cell_type": "code",
      "source": [
        "print(np.round(df_confidence_normal_pol,4))"
      ],
      "metadata": {
        "id": "--koSjM-sPmm"
      },
      "execution_count": null,
      "outputs": []
    },
    {
      "cell_type": "code",
      "source": [],
      "metadata": {
        "id": "QyfsnATpsSaD"
      },
      "execution_count": null,
      "outputs": []
    }
  ]
}