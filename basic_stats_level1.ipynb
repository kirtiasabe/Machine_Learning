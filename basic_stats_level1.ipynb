{
  "nbformat": 4,
  "nbformat_minor": 0,
  "metadata": {
    "colab": {
      "private_outputs": true,
      "provenance": []
    },
    "kernelspec": {
      "name": "python3",
      "display_name": "Python 3"
    },
    "language_info": {
      "name": "python"
    }
  },
  "cells": [
    {
      "cell_type": "code",
      "execution_count": null,
      "metadata": {
        "id": "Fc-yNWBfKzmd"
      },
      "outputs": [],
      "source": [
        "import pandas as pd\n",
        "import numpy as np\n",
        "import matplotlib.pyplot as plt\n",
        "import seaborn as sn"
      ]
    },
    {
      "cell_type": "code",
      "source": [
        "df=pd.read_csv('/content/sales_data_with_discounts.csv')"
      ],
      "metadata": {
        "id": "u1-cYc8WLCQU"
      },
      "execution_count": null,
      "outputs": []
    },
    {
      "cell_type": "code",
      "source": [
        "df"
      ],
      "metadata": {
        "id": "VPvuvEK6LbrU"
      },
      "execution_count": null,
      "outputs": []
    },
    {
      "cell_type": "code",
      "source": [
        "df.shape"
      ],
      "metadata": {
        "id": "ZbkYKTSELdAb"
      },
      "execution_count": null,
      "outputs": []
    },
    {
      "cell_type": "code",
      "source": [
        "df.describe()"
      ],
      "metadata": {
        "id": "1zstjcPsLfwo"
      },
      "execution_count": null,
      "outputs": []
    },
    {
      "cell_type": "code",
      "source": [
        "df.info()"
      ],
      "metadata": {
        "id": "ODawIlZvLhcg"
      },
      "execution_count": null,
      "outputs": []
    },
    {
      "cell_type": "code",
      "source": [
        "df.duplicated().sum()"
      ],
      "metadata": {
        "id": "FgwjjYhxLief"
      },
      "execution_count": null,
      "outputs": []
    },
    {
      "cell_type": "code",
      "source": [
        "df.dtypes"
      ],
      "metadata": {
        "id": "2oC2qy1WL-f5"
      },
      "execution_count": null,
      "outputs": []
    },
    {
      "cell_type": "code",
      "source": [
        "df.describe(include=object)"
      ],
      "metadata": {
        "id": "kfGBLu8nMEc8"
      },
      "execution_count": null,
      "outputs": []
    },
    {
      "cell_type": "code",
      "source": [
        "df['Day'].unique()"
      ],
      "metadata": {
        "id": "YSv5H5mFMLe9"
      },
      "execution_count": null,
      "outputs": []
    },
    {
      "cell_type": "code",
      "source": [
        "df['City'].unique()"
      ],
      "metadata": {
        "id": "w0xyQknCMZgz"
      },
      "execution_count": null,
      "outputs": []
    },
    {
      "cell_type": "code",
      "source": [
        "df.drop(columns='City',inplace=True)"
      ],
      "metadata": {
        "id": "wkI3RjRQMhlC"
      },
      "execution_count": null,
      "outputs": []
    },
    {
      "cell_type": "code",
      "source": [
        "df"
      ],
      "metadata": {
        "id": "bgmfiGKYMn80"
      },
      "execution_count": null,
      "outputs": []
    },
    {
      "cell_type": "code",
      "source": [
        " # Analytics for Columns"
      ],
      "metadata": {
        "id": "cZPxlb92S6fg"
      },
      "execution_count": null,
      "outputs": []
    },
    {
      "cell_type": "code",
      "source": [
        "df['Date'].mode()"
      ],
      "metadata": {
        "id": "ReVI3QYhM76K"
      },
      "execution_count": null,
      "outputs": []
    },
    {
      "cell_type": "code",
      "source": [
        "df.Day.mode()"
      ],
      "metadata": {
        "id": "YXKL_FZxNKiJ"
      },
      "execution_count": null,
      "outputs": []
    },
    {
      "cell_type": "code",
      "source": [
        "df.SKU.mode()"
      ],
      "metadata": {
        "id": "J6oQZDo2NSaH"
      },
      "execution_count": null,
      "outputs": []
    },
    {
      "cell_type": "code",
      "source": [
        "df.Volume.mean(),df.Volume.std()"
      ],
      "metadata": {
        "id": "8MA1Q8fDNWum"
      },
      "execution_count": null,
      "outputs": []
    },
    {
      "cell_type": "code",
      "source": [
        "df.BU.mode()"
      ],
      "metadata": {
        "id": "Zzw-rAApNi7G"
      },
      "execution_count": null,
      "outputs": []
    },
    {
      "cell_type": "code",
      "source": [
        "df.Brand.mode()"
      ],
      "metadata": {
        "id": "Tp9uiZ_1NnbA"
      },
      "execution_count": null,
      "outputs": []
    },
    {
      "cell_type": "code",
      "source": [
        "df.Model.mode()"
      ],
      "metadata": {
        "id": "PMu-1xl2Nswi"
      },
      "execution_count": null,
      "outputs": []
    },
    {
      "cell_type": "code",
      "source": [
        "df['Avg Price'].mean() , df['Avg Price'].std()"
      ],
      "metadata": {
        "id": "gBwTW7FhN0GU"
      },
      "execution_count": null,
      "outputs": []
    },
    {
      "cell_type": "code",
      "source": [
        "df['Total Sales Value'].mean() , df['Total Sales Value'].std()"
      ],
      "metadata": {
        "id": "g6edQ3dnOE27"
      },
      "execution_count": null,
      "outputs": []
    },
    {
      "cell_type": "code",
      "source": [
        "df['Discount Rate (%)'].mean() , df['Discount Rate (%)'].std()"
      ],
      "metadata": {
        "id": "IUkWsb00OoB1"
      },
      "execution_count": null,
      "outputs": []
    },
    {
      "cell_type": "code",
      "source": [
        "df['Discount Amount'].mean() , df['Discount Amount'].std()"
      ],
      "metadata": {
        "id": "hmcHahz5O18y"
      },
      "execution_count": null,
      "outputs": []
    },
    {
      "cell_type": "code",
      "source": [
        "df['Net Sales Value'].mean() , df['Net Sales Value'].std()"
      ],
      "metadata": {
        "id": "RNVh7bHbPAcD"
      },
      "execution_count": null,
      "outputs": []
    },
    {
      "cell_type": "code",
      "source": [
        "# Data Visualization"
      ],
      "metadata": {
        "id": "AZStpevySqvV"
      },
      "execution_count": null,
      "outputs": []
    },
    {
      "cell_type": "code",
      "source": [
        "plt.rcParams['figure.figsize']=(10,9)\n",
        "plt.rcParams['figure.dpi']=720\n",
        "%matplotlib inline"
      ],
      "metadata": {
        "id": "5m2ldtKVPlpH"
      },
      "execution_count": null,
      "outputs": []
    },
    {
      "cell_type": "code",
      "source": [
        "df.hist()"
      ],
      "metadata": {
        "id": "dSg9LpMVPHz7"
      },
      "execution_count": null,
      "outputs": []
    },
    {
      "cell_type": "code",
      "source": [
        "df.boxplot()"
      ],
      "metadata": {
        "id": "QFN-ZverPhu_"
      },
      "execution_count": null,
      "outputs": []
    },
    {
      "cell_type": "code",
      "source": [
        "plt.bar(df.Day,height=20)"
      ],
      "metadata": {
        "id": "ZBTr-hNvQB9J"
      },
      "execution_count": null,
      "outputs": []
    },
    {
      "cell_type": "code",
      "source": [
        "plt.bar(df.SKU,height=100)"
      ],
      "metadata": {
        "id": "MyV8f1HvRXNk"
      },
      "execution_count": null,
      "outputs": []
    },
    {
      "cell_type": "code",
      "source": [
        "# conversion of categorical columns into numerical columns\n",
        "# it will helpful for performing machine learning algorithm."
      ],
      "metadata": {
        "id": "zEAvWzvSSZS-"
      },
      "execution_count": null,
      "outputs": []
    },
    {
      "cell_type": "code",
      "source": [
        "df_dummie=pd.get_dummies(df).astype(int)"
      ],
      "metadata": {
        "id": "yeFH6baKRcyy"
      },
      "execution_count": null,
      "outputs": []
    },
    {
      "cell_type": "code",
      "source": [
        "df_dummie"
      ],
      "metadata": {
        "id": "uZHd1r7BUmbh"
      },
      "execution_count": null,
      "outputs": []
    },
    {
      "cell_type": "code",
      "source": [
        "# Standardization of Numerical Variables direct way"
      ],
      "metadata": {
        "id": "U5I5abX7WvKz"
      },
      "execution_count": null,
      "outputs": []
    },
    {
      "cell_type": "code",
      "source": [
        "(df_dummie-df_dummie.mean())/df_dummie.std()"
      ],
      "metadata": {
        "id": "C1yf0EMRWJ8R"
      },
      "execution_count": null,
      "outputs": []
    },
    {
      "cell_type": "code",
      "source": [
        "# Standardization of Numerical Variables another way"
      ],
      "metadata": {
        "id": "pNT1HFhbSBph"
      },
      "execution_count": null,
      "outputs": []
    },
    {
      "cell_type": "code",
      "source": [
        "df.describe()"
      ],
      "metadata": {
        "id": "Ca9DH7YiTutR"
      },
      "execution_count": null,
      "outputs": []
    },
    {
      "cell_type": "code",
      "source": [
        "df_num=df.iloc[:,[3,7,8,9,10,11]]"
      ],
      "metadata": {
        "id": "nuJeZRW2T1S9"
      },
      "execution_count": null,
      "outputs": []
    },
    {
      "cell_type": "code",
      "source": [
        "df_num"
      ],
      "metadata": {
        "id": "j3G1V-47ULQ4"
      },
      "execution_count": null,
      "outputs": []
    },
    {
      "cell_type": "code",
      "source": [
        "df_stand=(df_num-df_num.mean())/df_num.std()"
      ],
      "metadata": {
        "id": "tSzaLiacUM-N"
      },
      "execution_count": null,
      "outputs": []
    },
    {
      "cell_type": "code",
      "source": [
        "df_stand"
      ],
      "metadata": {
        "id": "HK7LK6foVHV8"
      },
      "execution_count": null,
      "outputs": []
    },
    {
      "cell_type": "code",
      "source": [
        "df_dummie2=df_dummie.iloc[:,6:]"
      ],
      "metadata": {
        "id": "Eb_pDkkAVbfE"
      },
      "execution_count": null,
      "outputs": []
    },
    {
      "cell_type": "code",
      "source": [
        "df_dummie2"
      ],
      "metadata": {
        "id": "-kh0Lk7vV1TG"
      },
      "execution_count": null,
      "outputs": []
    },
    {
      "cell_type": "code",
      "source": [
        "df_final=df_stand.join(df_dummie2)"
      ],
      "metadata": {
        "id": "PocSn8HSV248"
      },
      "execution_count": null,
      "outputs": []
    },
    {
      "cell_type": "code",
      "source": [
        "df_final"
      ],
      "metadata": {
        "id": "fnS7g0UbV_St"
      },
      "execution_count": null,
      "outputs": []
    },
    {
      "cell_type": "code",
      "source": [],
      "metadata": {
        "id": "6lNaGIKiWBjT"
      },
      "execution_count": null,
      "outputs": []
    }
  ]
}